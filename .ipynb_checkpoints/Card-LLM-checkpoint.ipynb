{
 "cells": [
  {
   "cell_type": "code",
   "execution_count": 1,
   "id": "77501ede-94f1-4ad7-b9e1-8232592d51ef",
   "metadata": {},
   "outputs": [
    {
     "name": "stdout",
     "output_type": "stream",
     "text": [
      "System Version: 3.11.9 | packaged by Anaconda, Inc. | (main, Apr 19 2024, 16:40:41) [MSC v.1916 64 bit (AMD64)]\n",
      "PyTorch Version: 2.3.1+cpu\n",
      "Torchvision version: 0.18.1+cpu\n",
      "Numpy version 1.23.5\n",
      "Pandas version 2.1.4\n"
     ]
    }
   ],
   "source": [
    "import torch\n",
    "import torch.nn as nn\n",
    "import torch.optim as optim\n",
    "from torch.utils.data import Dataset, DataLoader\n",
    "import torchvision\n",
    "import torchvision.transforms as transforms\n",
    "from torchvision.datasets import ImageFolder\n",
    "import timm  # image classification loading\n",
    "\n",
    "import matplotlib.pyplot as plt  # visualization \n",
    "import pandas as pd  # data exploration\n",
    "import numpy as np  # data exploration \n",
    "import sys\n",
    "\n",
    "print('System Version:', sys.version)\n",
    "print('PyTorch Version:', torch.__version__)\n",
    "print('Torchvision version:', torchvision.__version__)\n",
    "print('Numpy version', np.__version__)\n",
    "print('Pandas version', pd.__version__)\n"
   ]
  },
  {
   "cell_type": "code",
   "execution_count": 4,
   "id": "a8ef3353-7304-4a31-9295-78539621593d",
   "metadata": {},
   "outputs": [],
   "source": [
    "class PlayingCardDataset(Dataset):\n",
    "    def __init__(self, data_dir, transform=None):\n",
    "        self.data = ImageFolder(data_dir, transform=transform)\n",
    "\n",
    "    def __len__(self):\n",
    "        return len(self.data)\n",
    "\n",
    "    def __getitem__(self, idx):\n",
    "        return self.data[idx] # image and class\n",
    "\n",
    "    @property\n",
    "    def classes(self):\n",
    "        return self.data.classes"
   ]
  },
  {
   "cell_type": "code",
   "execution_count": 5,
   "id": "6b316410-67bc-4d20-b263-30546233039e",
   "metadata": {},
   "outputs": [],
   "source": [
    "dataset = PlayingCardDataset (\n",
    "    data_dir = 'train'\n",
    ")    "
   ]
  },
  {
   "cell_type": "code",
   "execution_count": 6,
   "id": "2fd54ec3-ba89-4fe3-b541-bfff90a2e63c",
   "metadata": {},
   "outputs": [
    {
     "data": {
      "text/plain": [
       "7624"
      ]
     },
     "execution_count": 6,
     "metadata": {},
     "output_type": "execute_result"
    }
   ],
   "source": [
    "len(dataset)"
   ]
  },
  {
   "cell_type": "code",
   "execution_count": null,
   "id": "0b954a14-1ccd-4f8f-aca8-5f6629ffb7ad",
   "metadata": {},
   "outputs": [],
   "source": [
    "data[0]"
   ]
  },
  {
   "cell_type": "code",
   "execution_count": null,
   "id": "0c3d05fe-fecd-4f11-a906-260d6c1a1be0",
   "metadata": {},
   "outputs": [],
   "source": []
  },
  {
   "cell_type": "code",
   "execution_count": null,
   "id": "c7c5c1fb-b1ed-40c9-8985-ffe35f5e5539",
   "metadata": {},
   "outputs": [],
   "source": []
  },
  {
   "cell_type": "code",
   "execution_count": null,
   "id": "acdfbfc1-acae-4742-b013-dc3d806ba2fc",
   "metadata": {},
   "outputs": [],
   "source": []
  }
 ],
 "metadata": {
  "kernelspec": {
   "display_name": "torch_kernel",
   "language": "python",
   "name": "torch_kernel"
  },
  "language_info": {
   "codemirror_mode": {
    "name": "ipython",
    "version": 3
   },
   "file_extension": ".py",
   "mimetype": "text/x-python",
   "name": "python",
   "nbconvert_exporter": "python",
   "pygments_lexer": "ipython3",
   "version": "3.11.9"
  }
 },
 "nbformat": 4,
 "nbformat_minor": 5
}
